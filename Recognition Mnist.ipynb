{
 "cells": [
  {
   "cell_type": "markdown",
   "metadata": {
    "tags": []
   },
   "source": [
    "## Importing The Needed Libraries"
   ]
  },
  {
   "cell_type": "code",
   "execution_count": 3,
   "metadata": {},
   "outputs": [],
   "source": [
    "import matplotlib.pyplot as plt\n",
    "import numpy as np \n",
    "import os\n",
    "import idx2numpy\n",
    "from scipy import optimize\n",
    "import gzip\n",
    "import PIL"
   ]
  },
  {
   "cell_type": "markdown",
   "metadata": {},
   "source": [
    "## Importing The Data"
   ]
  },
  {
   "cell_type": "code",
   "execution_count": 2,
   "metadata": {},
   "outputs": [],
   "source": [
    "data = os.getcwd() + \"\\\\Data\"\n",
    "test_images = idx2numpy.convert_from_string(gzip.open(data + \"\\\\t10k-images-idx3-ubyte.gz\").read())\n",
    "test_labels = idx2numpy.convert_from_string(gzip.open(data + \"\\\\t10k-labels-idx1-ubyte.gz\").read())\n",
    "train_images= idx2numpy.convert_from_string(gzip.open(data + \"\\\\train-images-idx3-ubyte.gz\").read())\n",
    "train_labels= idx2numpy.convert_from_string(gzip.open(data + \"\\\\train-labels-idx1-ubyte.gz\").read())"
   ]
  },
  {
   "cell_type": "markdown",
   "metadata": {},
   "source": [
    "## Vizualising The Data"
   ]
  },
  {
   "cell_type": "code",
   "execution_count": 3,
   "metadata": {},
   "outputs": [
    {
     "data": {
      "image/png": "[encoded data removed]",
      "text/plain": [
       "<Figure size 432x288 with 20 Axes>"
      ]
     },
     "metadata": {
      "needs_background": "light"
     },
     "output_type": "display_data"
    },
    {
     "name": "stdout",
     "output_type": "stream",
     "text": [
      "[[8 3 6 6]\n",
      " [2 1 2 9]\n",
      " [2 1 8 4]\n",
      " [9 4 6 0]\n",
      " [6 1 9 5]]\n"
     ]
    }
   ],
   "source": [
    "rands = np.random.randint(0,6000,20)\n",
    "for i in range(len(rands)):\n",
    "    plt.subplot(5,4,i+1)\n",
    "    plt.imshow(train_images[rands[i]],cmap = \"Greys\") \n",
    "plt.show()\n",
    "print(train_labels[rands].reshape(5,4))"
   ]
  },
  {
   "cell_type": "markdown",
   "metadata": {},
   "source": [
    "## Defining The Needed Functions"
   ]
  },
  {
   "cell_type": "code",
   "execution_count": 11,
   "metadata": {},
   "outputs": [],
   "source": [
    "def g(z):\n",
    "    return 1/(1+np.exp(-z))\n",
    "def sigmoid_gradient(z):\n",
    "    return g(z) * (1-g(z))"
   ]
  },
  {
   "cell_type": "markdown",
   "metadata": {},
   "source": [
    "## Normalizing The Data"
   ]
  },
  {
   "cell_type": "code",
   "execution_count": 5,
   "metadata": {},
   "outputs": [],
   "source": [
    "X= train_images\n",
    "X = X.reshape(60000,28*28) \n",
    "X = (X/255 -0.5) * 2"
   ]
  },
  {
   "cell_type": "markdown",
   "metadata": {},
   "source": [
    "## Transforming The Label Vector To A Label Matrix"
   ]
  },
  {
   "cell_type": "code",
   "execution_count": 6,
   "metadata": {},
   "outputs": [],
   "source": [
    "Y = []\n",
    "eye =  np.eye(10)\n",
    "for i in train_labels:\n",
    "    Y.append(eye[i])\n",
    "Y = np.array(Y)"
   ]
  },
  {
   "cell_type": "markdown",
   "metadata": {},
   "source": [
    "## Initialization Of Random Weights"
   ]
  },
  {
   "cell_type": "code",
   "execution_count": 4,
   "metadata": {},
   "outputs": [],
   "source": [
    "def randweight(shape,epsilon):\n",
    "    return (np.random.rand(shape[0]*shape[1])*2*epsilon - epsilon).reshape(shape)"
   ]
  },
  {
   "cell_type": "code",
   "execution_count": 5,
   "metadata": {},
   "outputs": [],
   "source": [
    "hidden_layer_size = 128"
   ]
  },
  {
   "cell_type": "code",
   "execution_count": 9,
   "metadata": {},
   "outputs": [],
   "source": [
    "Theta_1_Shape = (hidden_layer_size,785)\n",
    "Theta_2_Shape = (10,hidden_layer_size+1)\n",
    "Theta_1 = randweight(Theta_1_Shape,1/np.power(10,4))\n",
    "Theta_2 = randweight(Theta_2_Shape,1/np.power(10,4))\n",
    "Parameters = np.concatenate([Theta_1.ravel(),Theta_2.ravel()])\n",
    "costs = []"
   ]
  },
  {
   "cell_type": "markdown",
   "metadata": {},
   "source": [
    "## Cost And Backpropogation"
   ]
  },
  {
   "cell_type": "code",
   "execution_count": 1,
   "metadata": {
    "tags": []
   },
   "outputs": [],
   "source": [
    "def J(params,X,Y,lambda_,hidden_layer_size):\n",
    "    ## FEEDFORWARD AND COST\n",
    "    global costs\n",
    "    t1 = params[0:785*hidden_layer_size].reshape(hidden_layer_size,785)\n",
    "    t2 = params[785*hidden_layer_size::].reshape(10,hidden_layer_size+1)\n",
    "    j = 0\n",
    "    a1 = np.insert(X,0,1,axis = 1)\n",
    "    z2 = a1@t1.T\n",
    "    a2 = np.insert(g(z2),0,1,axis = 1) \n",
    "    z3 = a2@t2.T\n",
    "    a3 = g(z3)\n",
    "    m = len(X)\n",
    "    for i in range(m):\n",
    "        for k in range(10):\n",
    "            j+= -Y[i][k] * np.log(a3[i][k]) - (1-Y[i][k])*np.log(1-a3[i][k])\n",
    "    reg = lambda_/(2*m)*(np.sum(t1[::,1:]**2) +np.sum(t2[::,1:]**2))\n",
    "    ## BACKPROPOGATION AND GRADIENT\n",
    "    d3 = a3 - Y\n",
    "    d2 = (t2[::,1:].T@d3.T).T*sigmoid_gradient(z2)\n",
    "    D1 = d2.T@a1\n",
    "    D2 = d3.T@a2\n",
    "    Q1 = t1.copy()\n",
    "    Q2 = t2.copy()\n",
    "    grad = np.concatenate([D1.ravel(), D2.ravel()])/m\n",
    "    Q1[0,:] = 0\n",
    "    Q2[0,:] = 0\n",
    "    gradreg =  np.concatenate([(Q1*lambda_/m).ravel(),(Q2*lambda_/m).ravel()])\n",
    "    costs.append(j/m + reg)\n",
    "    return j/m + reg,grad + gradreg"
   ]
  },
  {
   "cell_type": "markdown",
   "metadata": {
    "tags": []
   },
   "source": [
    "## Optimizing Parameters"
   ]
  },
  {
   "cell_type": "code",
   "execution_count": null,
   "metadata": {},
   "outputs": [],
   "source": [
    "hidden_layer_size = 128\n",
    "lambda_ = 1\n",
    "cost = lambda p: J(p,X,Y,lambda_,hidden_layer_size)\n",
    "Theta_1_Shape = (hidden_layer_size,785)\n",
    "Theta_2_Shape = (10,hidden_layer_size+1)\n",
    "Theta_1 = randweight(Theta_1_Shape,0.12)\n",
    "Theta_2 = randweight(Theta_2_Shape,0.12)\n",
    "Parameters = np.concatenate([Theta_1.ravel(),Theta_2.ravel()])\n",
    "res = optimize.minimize(cost,\n",
    "                    Parameters,\n",
    "                    jac=True,\n",
    "                    method='TNC')\n",
    "params = res.x"
   ]
  },
  {
   "cell_type": "markdown",
   "metadata": {},
   "source": [
    "## Plotting The Cost Graph"
   ]
  },
  {
   "cell_type": "code",
   "execution_count": 8,
   "metadata": {},
   "outputs": [
    {
     "data": {
      "text/plain": [
       "[<matplotlib.lines.Line2D at 0x157d0295f10>]"
      ]
     },
     "execution_count": 8,
     "metadata": {},
     "output_type": "execute_result"
    },
    {
     "data": {
      "image/png": "[encoded data removed]",
      "text/plain": [
       "<Figure size 432x288 with 1 Axes>"
      ]
     },
     "metadata": {
      "needs_background": "light"
     },
     "output_type": "display_data"
    }
   ],
   "source": [
    "plt.plot(np.add(range(len(costs)),1), costs)"
   ]
  },
  {
   "cell_type": "markdown",
   "metadata": {},
   "source": [
    "## Accuracy Of Prediction In Training Set"
   ]
  },
  {
   "cell_type": "code",
   "execution_count": 7,
   "metadata": {},
   "outputs": [],
   "source": [
    "params = np.load(\"Parameters.npy\")"
   ]
  },
  {
   "cell_type": "code",
   "execution_count": 8,
   "metadata": {},
   "outputs": [],
   "source": [
    "t1 = params[0:785*128].reshape(128,785)\n",
    "t2 = params[785*128:].reshape(10,129)\n",
    "X=train_images.reshape(60000,28*28)\n",
    "X = (X/255 -0.5) * 2"
   ]
  },
  {
   "cell_type": "code",
   "execution_count": 12,
   "metadata": {},
   "outputs": [],
   "source": [
    "a1 = np.insert(X,0,1,axis = 1)\n",
    "z2 = a1@t1.T\n",
    "a2 = np.insert(g(z2),0,1,axis = 1) \n",
    "z3 = a2@t2.T\n",
    "a3 = g(z3)"
   ]
  },
  {
   "cell_type": "code",
   "execution_count": 13,
   "metadata": {},
   "outputs": [],
   "source": [
    "h = np.argmax(a3,axis =1)"
   ]
  },
  {
   "cell_type": "code",
   "execution_count": 14,
   "metadata": {},
   "outputs": [
    {
     "name": "stdout",
     "output_type": "stream",
     "text": [
      "Accuracy: 100.0\n"
     ]
    }
   ],
   "source": [
    "print(\"Accuracy:\",sum(h==train_labels)/len(X)*100)"
   ]
  },
  {
   "cell_type": "markdown",
   "metadata": {},
   "source": [
    "## Accuracy Of Prediction In Test Set"
   ]
  },
  {
   "cell_type": "code",
   "execution_count": 15,
   "metadata": {},
   "outputs": [],
   "source": [
    "X = (test_images / 255 - 0.5)*2"
   ]
  },
  {
   "cell_type": "code",
   "execution_count": 16,
   "metadata": {},
   "outputs": [],
   "source": [
    "a1 = np.insert(X.reshape(10000,28*28),0,1,axis = 1)\n",
    "z2 = a1@t1.T\n",
    "a2 = np.insert(g(z2),0,1,axis = 1) \n",
    "z3 = a2@t2.T\n",
    "a3 = g(z3)"
   ]
  },
  {
   "cell_type": "code",
   "execution_count": 17,
   "metadata": {},
   "outputs": [
    {
     "name": "stdout",
     "output_type": "stream",
     "text": [
      "Accuracy: 97.68\n"
     ]
    }
   ],
   "source": [
    "h = np.argmax(a3,axis = 1)\n",
    "print(\"Accuracy:\",sum(h == test_labels) / len(test_labels) *100)"
   ]
  }
 ],
 "metadata": {
  "kernelspec": {
   "display_name": "Python 3 (ipykernel)",
   "language": "python",
   "name": "python3"
  },
  "language_info": {
   "codemirror_mode": {
    "name": "ipython",
    "version": 3
   },
   "file_extension": ".py",
   "mimetype": "text/x-python",
   "name": "python",
   "nbconvert_exporter": "python",
   "pygments_lexer": "ipython3",
   "version": "3.9.10"
  }
 },
 "nbformat": 4,
 "nbformat_minor": 4
}
